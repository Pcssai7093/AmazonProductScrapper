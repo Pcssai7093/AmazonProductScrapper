{
 "cells": [
  {
   "cell_type": "code",
   "execution_count": 1,
   "metadata": {},
   "outputs": [],
   "source": [
    "import requests as r\n",
    "import bs4\n",
    "import numpy as np\n",
    "import pandas as pd\n",
    "from random import randint\n",
    "from pymaybe import maybe"
   ]
  },
  {
   "cell_type": "code",
   "execution_count": 2,
   "metadata": {},
   "outputs": [],
   "source": [
    "from scrapperHeaderSetup import createHeader"
   ]
  },
  {
   "cell_type": "code",
   "execution_count": 3,
   "metadata": {},
   "outputs": [],
   "source": [
    "from retrieveProductData import getProductData"
   ]
  },
  {
   "cell_type": "code",
   "execution_count": 4,
   "metadata": {},
   "outputs": [],
   "source": [
    "from retrieveProductLinks import getLinks"
   ]
  },
  {
   "cell_type": "code",
   "execution_count": 6,
   "metadata": {},
   "outputs": [],
   "source": [
    "rootUrl=\"https://www.amazon.in/\""
   ]
  },
  {
   "cell_type": "code",
   "execution_count": 7,
   "metadata": {},
   "outputs": [],
   "source": [
    "searchProducts=[\"watch\"]"
   ]
  },
  {
   "cell_type": "code",
   "execution_count": 8,
   "metadata": {},
   "outputs": [],
   "source": [
    "searchParameterPrefix=\"s?k=\""
   ]
  },
  {
   "cell_type": "code",
   "execution_count": 9,
   "metadata": {},
   "outputs": [],
   "source": [
    "pageParameterPrefix=\"&page=\""
   ]
  },
  {
   "cell_type": "code",
   "execution_count": 11,
   "metadata": {},
   "outputs": [
    {
     "name": "stdout",
     "output_type": "stream",
     "text": [
      "https://www.amazon.in/s?k=watch\n",
      "response error for the product: watch\n",
      "https://www.amazon.in/s?k=watch\n",
      "watch maxPagesAvailable:7\n",
      "total product links retrieved: 281\n"
     ]
    }
   ],
   "source": [
    "searchProductsLength=len(searchProducts)\n",
    "retrievedProductLinks=set()\n",
    "\n",
    "i=0\n",
    "while(i<searchProductsLength):\n",
    "    searchProduct=searchProducts[i]\n",
    "    searchUrl=rootUrl+searchParameterPrefix+searchProduct\n",
    "    searchHeader=createHeader()\n",
    "    response=r.get(searchUrl,headers=searchHeader)\n",
    "    # print(response.content)\n",
    "    print(searchUrl)\n",
    "    if(response.status_code==200):\n",
    "        i+=1\n",
    "        resHtml=response.content\n",
    "        soupHtml=bs4.BeautifulSoup(resHtml,'html.parser')\n",
    "           \n",
    "        # * finding maxPages for the search Product\n",
    "        maxSearchProductPages=int(soupHtml.find('span',{'class':\"s-pagination-item s-pagination-disabled\"}).text)\n",
    "        print(searchProduct+\" maxPagesAvailable:\"+str(maxSearchProductPages))\n",
    "        retrievedProductLinks=retrievedProductLinks.union(getLinks(maxSearchProductPages,searchUrl))\n",
    "        # * getting product links by looping available pages\n",
    "    else:\n",
    "        print(\"response error for the product: \"+searchProduct)\n",
    "    # finding the total number of pages for the searchProduct\n"
   ]
  },
  {
   "cell_type": "code",
   "execution_count": 15,
   "metadata": {},
   "outputs": [],
   "source": [
    "retrievedProductLinksList=list(retrievedProductLinks)"
   ]
  },
  {
   "cell_type": "code",
   "execution_count": 16,
   "metadata": {},
   "outputs": [
    {
     "data": {
      "text/plain": [
       "['/Waterproof-Bluetooth-Smartwatch-Pressure-Functionality/dp/B0B1C4V9Z5/ref=sr_1_50?keywords=watch&qid=1686301373&sr=8-50',\n",
       " '/Shocknshop-Digital-Sports-Functional-315RED/dp/B08X1HCVWF/ref=sr_1_3?keywords=watch&qid=1686301371&sr=8-3',\n",
       " '/Bluetooth-Smartwatch-Wireless-Fitness-Monitor/dp/B09YNKHYQH/ref=sr_1_74?keywords=watch&qid=1686301373&sr=8-74',\n",
       " '/Watch-Red-Book-1-ebook/dp/B00ZY718FA/ref=sr_1_162?keywords=watch&qid=1686301378&sr=8-162',\n",
       " '/V2A-Digital-Resistant-Orange-Sports/dp/B0B2TGDL9V/ref=sr_1_96?keywords=watch&qid=1686301373&sr=8-96']"
      ]
     },
     "execution_count": 16,
     "metadata": {},
     "output_type": "execute_result"
    }
   ],
   "source": [
    "retrievedProductLinksList[0:5]"
   ]
  },
  {
   "cell_type": "code",
   "execution_count": 39,
   "metadata": {},
   "outputs": [
    {
     "name": "stdout",
     "output_type": "stream",
     "text": [
      "['Samsung Galaxy A14 5G (Dark Red, 6GB, 128GB Storage) | Triple Rear Camera (50 MP Main) | Upto 12 GB RAM with RAM Plus | Without Charger', 'electronics', 'Samsung', 18999.0, 3.8, 'In stock']\n",
      "['Oppo A78 5G (Glowing Blue, 8GB RAM, 128 Storage) | 5000 mAh Battery with 33W SUPERVOOC Charger| 50MP AI Camera | 90Hz Refresh Rate | with No Cost EMI/Additional Exchange Offers', 'electronics', 'Oppo', 18999.0, 4.1, 'In stock']\n",
      "['(Renewed) Realme 9 Pro+ 5G (Aurora Green, 6GB RAM, 128GB Storage)', 'electronics', 'Oppo', None, 4.0, 'Only 1 left in stock.']\n",
      "['Redmi 11 Prime (Playful Green, 4GB RAM, 64GB Storage) | Prime Design | High Performance Helio G99 | 50 MP AI Triple Cam | 5000 mAh | 22.5W', 'electronics', 'Redmi', 9999.0, 4.0, 'In stock']\n",
      "['Poco F1 by Xiaomi (Steel Blue, 6GB RAM, SD 845, 128GB Storage)', 'electronics', 'Poco by Xiaomi', 11599.0, 4.3, 'In stock']\n"
     ]
    }
   ],
   "source": [
    "for plink in list(retrievedProductLinks)[0:5]:\n",
    "    print(getProductData(\"https://www.amazon.in\"+plink))"
   ]
  },
  {
   "cell_type": "code",
   "execution_count": null,
   "metadata": {},
   "outputs": [],
   "source": [
    "for plink in list(retrievedProductLinks)[5:]:\n",
    "    print(getProductData(\"https://www.amazon.in\"+plink))"
   ]
  },
  {
   "attachments": {},
   "cell_type": "markdown",
   "metadata": {},
   "source": [
    "creating dataframe from product data"
   ]
  },
  {
   "cell_type": "code",
   "execution_count": 49,
   "metadata": {},
   "outputs": [
    {
     "name": "stdout",
     "output_type": "stream",
     "text": [
      "product retrievals remaining: 297\n",
      "product retrievals remaining: 296\n",
      "product retrievals remaining: 295\n",
      "product retrievals remaining: 294\n",
      "product retrievals remaining: 293\n",
      "product retrievals remaining: 292\n",
      "product retrievals remaining: 291\n",
      "product retrievals remaining: 290\n",
      "product retrievals remaining: 289\n",
      "product retrievals remaining: 288\n",
      "product retrievals remaining: 287\n",
      "product retrievals remaining: 286\n",
      "product retrievals remaining: 285\n",
      "product retrievals remaining: 284\n",
      "product retrievals remaining: 283\n",
      "product retrievals remaining: 282\n",
      "product retrievals remaining: 281\n",
      "product retrievals remaining: 280\n",
      "product retrievals remaining: 279\n",
      "product retrievals remaining: 278\n",
      "product retrievals remaining: 277\n",
      "product retrievals remaining: 276\n",
      "product retrievals remaining: 275\n",
      "product retrievals remaining: 274\n",
      "product retrievals remaining: 273\n",
      "product retrievals remaining: 272\n",
      "product retrievals remaining: 271\n",
      "product retrievals remaining: 270\n",
      "product retrievals remaining: 269\n",
      "product retrievals remaining: 268\n",
      "product retrievals remaining: 267\n",
      "product retrievals remaining: 266\n",
      "product retrievals remaining: 265\n",
      "product retrievals remaining: 264\n",
      "product retrievals remaining: 263\n",
      "product retrievals remaining: 262\n",
      "product retrievals remaining: 261\n",
      "product retrievals remaining: 260\n",
      "product retrievals remaining: 259\n",
      "product retrievals remaining: 258\n",
      "product retrievals remaining: 257\n",
      "product retrievals remaining: 256\n",
      "product retrievals remaining: 255\n",
      "product retrievals remaining: 254\n",
      "product retrievals remaining: 253\n",
      "product retrievals remaining: 252\n",
      "product retrievals remaining: 251\n",
      "product retrievals remaining: 250\n",
      "product retrievals remaining: 249\n",
      "product retrievals remaining: 248\n",
      "product retrievals remaining: 247\n",
      "product retrievals remaining: 246\n",
      "product retrievals remaining: 245\n",
      "product retrievals remaining: 244\n",
      "product retrievals remaining: 243\n",
      "product retrievals remaining: 242\n",
      "product retrievals remaining: 241\n",
      "product retrievals remaining: 240\n",
      "product retrievals remaining: 239\n",
      "product retrievals remaining: 238\n",
      "product retrievals remaining: 237\n",
      "product retrievals remaining: 236\n",
      "product retrievals remaining: 235\n",
      "product retrievals remaining: 234\n",
      "product retrievals remaining: 233\n",
      "product retrievals remaining: 232\n",
      "product retrievals remaining: 231\n",
      "product retrievals remaining: 230\n",
      "product retrievals remaining: 229\n",
      "product retrievals remaining: 228\n",
      "product retrievals remaining: 227\n",
      "product retrievals remaining: 226\n",
      "product retrievals remaining: 225\n",
      "product retrievals remaining: 224\n",
      "product retrievals remaining: 223\n",
      "product retrievals remaining: 222\n",
      "product retrievals remaining: 221\n",
      "product retrievals remaining: 220\n",
      "product retrievals remaining: 219\n",
      "product retrievals remaining: 218\n",
      "product retrievals remaining: 217\n",
      "product retrievals remaining: 216\n",
      "product retrievals remaining: 215\n",
      "product retrievals remaining: 214\n",
      "product retrievals remaining: 213\n",
      "product retrievals remaining: 212\n",
      "product retrievals remaining: 211\n",
      "product retrievals remaining: 210\n",
      "product retrievals remaining: 209\n",
      "product retrievals remaining: 208\n",
      "product retrievals remaining: 207\n",
      "product retrievals remaining: 206\n",
      "product retrievals remaining: 205\n",
      "product retrievals remaining: 204\n",
      "product retrievals remaining: 203\n",
      "product retrievals remaining: 202\n",
      "product retrievals remaining: 201\n",
      "product retrievals remaining: 200\n",
      "product retrievals remaining: 199\n",
      "product retrievals remaining: 198\n",
      "product retrievals remaining: 197\n",
      "product retrievals remaining: 196\n",
      "product retrievals remaining: 195\n",
      "product retrievals remaining: 194\n",
      "product retrievals remaining: 193\n",
      "product retrievals remaining: 192\n",
      "product retrievals remaining: 191\n",
      "product retrievals remaining: 190\n",
      "product retrievals remaining: 189\n",
      "product retrievals remaining: 188\n",
      "product retrievals remaining: 187\n",
      "product retrievals remaining: 186\n",
      "product retrievals remaining: 185\n",
      "product retrievals remaining: 184\n",
      "product retrievals remaining: 183\n",
      "product retrievals remaining: 182\n",
      "product retrievals remaining: 181\n",
      "product retrievals remaining: 180\n",
      "product retrievals remaining: 179\n",
      "product retrievals remaining: 178\n",
      "product retrievals remaining: 177\n",
      "product retrievals remaining: 176\n",
      "product retrievals remaining: 175\n",
      "product retrievals remaining: 174\n",
      "product retrievals remaining: 173\n",
      "product retrievals remaining: 172\n",
      "product retrievals remaining: 171\n",
      "product retrievals remaining: 170\n",
      "product retrievals remaining: 169\n",
      "product retrievals remaining: 168\n",
      "product retrievals remaining: 167\n",
      "product retrievals remaining: 166\n",
      "product retrievals remaining: 165\n",
      "product retrievals remaining: 164\n",
      "product retrievals remaining: 163\n",
      "product retrievals remaining: 162\n",
      "product retrievals remaining: 161\n",
      "product retrievals remaining: 160\n",
      "product retrievals remaining: 159\n",
      "product retrievals remaining: 158\n",
      "product retrievals remaining: 157\n",
      "product retrievals remaining: 156\n",
      "product retrievals remaining: 155\n",
      "product retrievals remaining: 154\n",
      "product retrievals remaining: 153\n",
      "product retrievals remaining: 152\n",
      "product retrievals remaining: 151\n",
      "product retrievals remaining: 150\n",
      "product retrievals remaining: 149\n",
      "product retrievals remaining: 148\n",
      "product retrievals remaining: 147\n",
      "product retrievals remaining: 146\n",
      "product retrievals remaining: 145\n",
      "product retrievals remaining: 144\n",
      "product retrievals remaining: 143\n",
      "product retrievals remaining: 142\n",
      "product retrievals remaining: 141\n",
      "product retrievals remaining: 140\n",
      "product retrievals remaining: 139\n",
      "product retrievals remaining: 138\n",
      "product retrievals remaining: 137\n",
      "product retrievals remaining: 136\n",
      "product retrievals remaining: 135\n",
      "product retrievals remaining: 134\n",
      "product retrievals remaining: 133\n",
      "product retrievals remaining: 132\n",
      "product retrievals remaining: 131\n",
      "product retrievals remaining: 130\n",
      "product retrievals remaining: 129\n",
      "product retrievals remaining: 128\n",
      "product retrievals remaining: 127\n",
      "product retrievals remaining: 126\n",
      "product retrievals remaining: 125\n",
      "product retrievals remaining: 124\n",
      "product retrievals remaining: 123\n",
      "product retrievals remaining: 122\n",
      "product retrievals remaining: 121\n",
      "product retrievals remaining: 120\n",
      "product retrievals remaining: 119\n",
      "product retrievals remaining: 118\n",
      "product retrievals remaining: 117\n",
      "product retrievals remaining: 116\n",
      "product retrievals remaining: 115\n",
      "product retrievals remaining: 114\n",
      "product retrievals remaining: 113\n",
      "product retrievals remaining: 112\n",
      "product retrievals remaining: 111\n",
      "product retrievals remaining: 110\n",
      "product retrievals remaining: 109\n",
      "product retrievals remaining: 108\n",
      "product retrievals remaining: 107\n",
      "product retrievals remaining: 106\n",
      "product retrievals remaining: 105\n",
      "product retrievals remaining: 104\n",
      "product retrievals remaining: 103\n",
      "product retrievals remaining: 102\n",
      "product retrievals remaining: 101\n",
      "product retrievals remaining: 100\n",
      "product retrievals remaining: 99\n",
      "product retrievals remaining: 98\n",
      "product retrievals remaining: 97\n",
      "product retrievals remaining: 96\n",
      "product retrievals remaining: 95\n",
      "product retrievals remaining: 94\n",
      "product retrievals remaining: 93\n",
      "product retrievals remaining: 92\n",
      "product retrievals remaining: 91\n",
      "product retrievals remaining: 90\n",
      "product retrievals remaining: 89\n",
      "product retrievals remaining: 88\n",
      "product retrievals remaining: 87\n",
      "product retrievals remaining: 86\n",
      "product retrievals remaining: 85\n",
      "product retrievals remaining: 84\n",
      "product retrievals remaining: 83\n",
      "product retrievals remaining: 82\n",
      "product retrievals remaining: 81\n",
      "product retrievals remaining: 80\n",
      "product retrievals remaining: 79\n",
      "product retrievals remaining: 78\n",
      "product retrievals remaining: 77\n",
      "product retrievals remaining: 76\n",
      "product retrievals remaining: 75\n",
      "product retrievals remaining: 74\n",
      "product retrievals remaining: 73\n",
      "product retrievals remaining: 72\n",
      "product retrievals remaining: 71\n",
      "product retrievals remaining: 70\n",
      "product retrievals remaining: 69\n",
      "product retrievals remaining: 68\n",
      "product retrievals remaining: 67\n",
      "product retrievals remaining: 66\n",
      "product retrievals remaining: 65\n",
      "product retrievals remaining: 64\n",
      "product retrievals remaining: 63\n",
      "product retrievals remaining: 62\n",
      "product retrievals remaining: 61\n",
      "product retrievals remaining: 60\n",
      "product retrievals remaining: 59\n",
      "product retrievals remaining: 58\n",
      "product retrievals remaining: 57\n",
      "product retrievals remaining: 56\n",
      "product retrievals remaining: 55\n",
      "product retrievals remaining: 54\n",
      "product retrievals remaining: 53\n",
      "product retrievals remaining: 52\n",
      "product retrievals remaining: 51\n",
      "product retrievals remaining: 50\n",
      "product retrievals remaining: 49\n",
      "product retrievals remaining: 48\n",
      "product retrievals remaining: 47\n",
      "product retrievals remaining: 46\n",
      "product retrievals remaining: 45\n",
      "product retrievals remaining: 44\n",
      "product retrievals remaining: 43\n",
      "product retrievals remaining: 42\n",
      "product retrievals remaining: 41\n",
      "product retrievals remaining: 40\n",
      "product retrievals remaining: 39\n",
      "product retrievals remaining: 38\n",
      "product retrievals remaining: 37\n",
      "product retrievals remaining: 36\n",
      "product retrievals remaining: 35\n",
      "product retrievals remaining: 34\n",
      "product retrievals remaining: 33\n",
      "product retrievals remaining: 32\n",
      "product retrievals remaining: 31\n",
      "product retrievals remaining: 30\n",
      "product retrievals remaining: 29\n",
      "product retrievals remaining: 28\n",
      "product retrievals remaining: 27\n",
      "product retrievals remaining: 26\n",
      "product retrievals remaining: 25\n",
      "product retrievals remaining: 24\n",
      "product retrievals remaining: 23\n",
      "product retrievals remaining: 22\n",
      "product retrievals remaining: 21\n",
      "product retrievals remaining: 20\n",
      "product retrievals remaining: 19\n",
      "product retrievals remaining: 18\n",
      "product retrievals remaining: 17\n",
      "product retrievals remaining: 16\n",
      "product retrievals remaining: 15\n",
      "product retrievals remaining: 14\n",
      "product retrievals remaining: 13\n",
      "product retrievals remaining: 12\n",
      "product retrievals remaining: 11\n",
      "product retrievals remaining: 10\n",
      "product retrievals remaining: 9\n",
      "product retrievals remaining: 8\n",
      "product retrievals remaining: 7\n",
      "product retrievals remaining: 6\n",
      "product retrievals remaining: 5\n",
      "product retrievals remaining: 4\n",
      "product retrievals remaining: 3\n",
      "product retrievals remaining: 2\n",
      "product retrievals remaining: 1\n"
     ]
    }
   ],
   "source": [
    "productData=[]\n",
    "tsize=len(retrievedProductLinksList)\n",
    "for plink in retrievedProductLinksList:\n",
    "    print(\"product retrievals remaining: \"+str(tsize-len(productData)))\n",
    "    productData.append(getProductData(\"https://www.amazon.in\"+plink))"
   ]
  },
  {
   "attachments": {},
   "cell_type": "markdown",
   "metadata": {},
   "source": [
    "Creating DataFrame from product DATA"
   ]
  },
  {
   "cell_type": "code",
   "execution_count": 96,
   "metadata": {},
   "outputs": [],
   "source": [
    "productsDF=pd.DataFrame(productData,columns=[\"Title\",\"Category\",\"brand\",\"Price\",\"Ratings\",\"Availability\"])"
   ]
  },
  {
   "cell_type": "code",
   "execution_count": 97,
   "metadata": {},
   "outputs": [
    {
     "data": {
      "text/html": [
       "<div>\n",
       "<style scoped>\n",
       "    .dataframe tbody tr th:only-of-type {\n",
       "        vertical-align: middle;\n",
       "    }\n",
       "\n",
       "    .dataframe tbody tr th {\n",
       "        vertical-align: top;\n",
       "    }\n",
       "\n",
       "    .dataframe thead th {\n",
       "        text-align: right;\n",
       "    }\n",
       "</style>\n",
       "<table border=\"1\" class=\"dataframe\">\n",
       "  <thead>\n",
       "    <tr style=\"text-align: right;\">\n",
       "      <th></th>\n",
       "      <th>Title</th>\n",
       "      <th>Category</th>\n",
       "      <th>brand</th>\n",
       "      <th>Price</th>\n",
       "      <th>Ratings</th>\n",
       "      <th>Availability</th>\n",
       "    </tr>\n",
       "  </thead>\n",
       "  <tbody>\n",
       "    <tr>\n",
       "      <th>0</th>\n",
       "      <td>Samsung Galaxy A14 5G (Dark Red, 6GB, 128GB St...</td>\n",
       "      <td>electronics</td>\n",
       "      <td>Samsung</td>\n",
       "      <td>18999.0</td>\n",
       "      <td>3.8</td>\n",
       "      <td>In stock</td>\n",
       "    </tr>\n",
       "    <tr>\n",
       "      <th>1</th>\n",
       "      <td>Oppo A78 5G (Glowing Blue, 8GB RAM, 128 Storag...</td>\n",
       "      <td>electronics</td>\n",
       "      <td>Oppo</td>\n",
       "      <td>18999.0</td>\n",
       "      <td>4.1</td>\n",
       "      <td>In stock</td>\n",
       "    </tr>\n",
       "    <tr>\n",
       "      <th>2</th>\n",
       "      <td>(Renewed) Realme 9 Pro+ 5G (Aurora Green, 6GB ...</td>\n",
       "      <td>electronics</td>\n",
       "      <td>Oppo</td>\n",
       "      <td>NaN</td>\n",
       "      <td>4.0</td>\n",
       "      <td>Only 1 left in stock.</td>\n",
       "    </tr>\n",
       "    <tr>\n",
       "      <th>3</th>\n",
       "      <td>Redmi 11 Prime (Playful Green, 4GB RAM, 64GB S...</td>\n",
       "      <td>electronics</td>\n",
       "      <td>Redmi</td>\n",
       "      <td>9999.0</td>\n",
       "      <td>4.0</td>\n",
       "      <td>In stock</td>\n",
       "    </tr>\n",
       "    <tr>\n",
       "      <th>4</th>\n",
       "      <td>Poco F1 by Xiaomi (Steel Blue, 6GB RAM, SD 845...</td>\n",
       "      <td>electronics</td>\n",
       "      <td>Poco by Xiaomi</td>\n",
       "      <td>11599.0</td>\n",
       "      <td>4.3</td>\n",
       "      <td>In stock</td>\n",
       "    </tr>\n",
       "    <tr>\n",
       "      <th>5</th>\n",
       "      <td>Redmi A2+ (Sea Green, 4GB RAM, 64GB Storage) |...</td>\n",
       "      <td>electronics</td>\n",
       "      <td>Redmi</td>\n",
       "      <td>8499.0</td>\n",
       "      <td>4.3</td>\n",
       "      <td>In stock</td>\n",
       "    </tr>\n",
       "    <tr>\n",
       "      <th>6</th>\n",
       "      <td>Redmi 10 Power (Sporty Orange, 8GB RAM, 128GB ...</td>\n",
       "      <td>electronics</td>\n",
       "      <td>Xiaomi</td>\n",
       "      <td>12499.0</td>\n",
       "      <td>4.1</td>\n",
       "      <td>In stock</td>\n",
       "    </tr>\n",
       "    <tr>\n",
       "      <th>7</th>\n",
       "      <td>realme narzo N53 (Feather Gold, 6GB+128GB) 33W...</td>\n",
       "      <td>electronics</td>\n",
       "      <td>realme</td>\n",
       "      <td>10999.0</td>\n",
       "      <td>4.1</td>\n",
       "      <td>In stock</td>\n",
       "    </tr>\n",
       "    <tr>\n",
       "      <th>8</th>\n",
       "      <td>Redmi A2 (Classic Black, 4GB RAM, 64GB Storage...</td>\n",
       "      <td>electronics</td>\n",
       "      <td>Redmi</td>\n",
       "      <td>7499.0</td>\n",
       "      <td>4.3</td>\n",
       "      <td>In stock</td>\n",
       "    </tr>\n",
       "    <tr>\n",
       "      <th>9</th>\n",
       "      <td>Redmi 12C (Royal Blue, 6GB RAM, 128GB Storage)...</td>\n",
       "      <td>electronics</td>\n",
       "      <td>Redmi</td>\n",
       "      <td>10999.0</td>\n",
       "      <td>3.9</td>\n",
       "      <td>In stock</td>\n",
       "    </tr>\n",
       "  </tbody>\n",
       "</table>\n",
       "</div>"
      ],
      "text/plain": [
       "                                               Title     Category  \\\n",
       "0  Samsung Galaxy A14 5G (Dark Red, 6GB, 128GB St...  electronics   \n",
       "1  Oppo A78 5G (Glowing Blue, 8GB RAM, 128 Storag...  electronics   \n",
       "2  (Renewed) Realme 9 Pro+ 5G (Aurora Green, 6GB ...  electronics   \n",
       "3  Redmi 11 Prime (Playful Green, 4GB RAM, 64GB S...  electronics   \n",
       "4  Poco F1 by Xiaomi (Steel Blue, 6GB RAM, SD 845...  electronics   \n",
       "5  Redmi A2+ (Sea Green, 4GB RAM, 64GB Storage) |...  electronics   \n",
       "6  Redmi 10 Power (Sporty Orange, 8GB RAM, 128GB ...  electronics   \n",
       "7  realme narzo N53 (Feather Gold, 6GB+128GB) 33W...  electronics   \n",
       "8  Redmi A2 (Classic Black, 4GB RAM, 64GB Storage...  electronics   \n",
       "9  Redmi 12C (Royal Blue, 6GB RAM, 128GB Storage)...  electronics   \n",
       "\n",
       "            brand    Price  Ratings           Availability  \n",
       "0         Samsung  18999.0      3.8               In stock  \n",
       "1            Oppo  18999.0      4.1               In stock  \n",
       "2            Oppo      NaN      4.0  Only 1 left in stock.  \n",
       "3           Redmi   9999.0      4.0               In stock  \n",
       "4  Poco by Xiaomi  11599.0      4.3               In stock  \n",
       "5           Redmi   8499.0      4.3               In stock  \n",
       "6          Xiaomi  12499.0      4.1               In stock  \n",
       "7          realme  10999.0      4.1               In stock  \n",
       "8           Redmi   7499.0      4.3               In stock  \n",
       "9           Redmi  10999.0      3.9               In stock  "
      ]
     },
     "execution_count": 97,
     "metadata": {},
     "output_type": "execute_result"
    }
   ],
   "source": [
    "productsDF.head(10)"
   ]
  },
  {
   "attachments": {},
   "cell_type": "markdown",
   "metadata": {},
   "source": [
    "Removing duplicates"
   ]
  },
  {
   "cell_type": "code",
   "execution_count": 98,
   "metadata": {},
   "outputs": [],
   "source": [
    "productsDF.drop_duplicates(subset=[\"Title\"],inplace=True)"
   ]
  },
  {
   "cell_type": "code",
   "execution_count": 99,
   "metadata": {},
   "outputs": [
    {
     "data": {
      "text/plain": [
       "False    229\n",
       "dtype: int64"
      ]
     },
     "execution_count": 99,
     "metadata": {},
     "output_type": "execute_result"
    }
   ],
   "source": [
    "productsDF.duplicated().value_counts()"
   ]
  },
  {
   "attachments": {},
   "cell_type": "markdown",
   "metadata": {},
   "source": [
    "Writing DataFrame to file as csv"
   ]
  },
  {
   "cell_type": "code",
   "execution_count": 100,
   "metadata": {},
   "outputs": [],
   "source": [
    "productsDF.to_csv(na_rep=\"null\",index=False,path_or_buf=\"data.csv\",sep=\",\")"
   ]
  },
  {
   "cell_type": "code",
   "execution_count": 101,
   "metadata": {},
   "outputs": [
    {
     "data": {
      "text/html": [
       "<div>\n",
       "<style scoped>\n",
       "    .dataframe tbody tr th:only-of-type {\n",
       "        vertical-align: middle;\n",
       "    }\n",
       "\n",
       "    .dataframe tbody tr th {\n",
       "        vertical-align: top;\n",
       "    }\n",
       "\n",
       "    .dataframe thead th {\n",
       "        text-align: right;\n",
       "    }\n",
       "</style>\n",
       "<table border=\"1\" class=\"dataframe\">\n",
       "  <thead>\n",
       "    <tr style=\"text-align: right;\">\n",
       "      <th></th>\n",
       "      <th>Title</th>\n",
       "      <th>Category</th>\n",
       "      <th>brand</th>\n",
       "      <th>Price</th>\n",
       "      <th>Ratings</th>\n",
       "      <th>Availability</th>\n",
       "    </tr>\n",
       "  </thead>\n",
       "  <tbody>\n",
       "    <tr>\n",
       "      <th>0</th>\n",
       "      <td>Samsung Galaxy A14 5G (Dark Red, 6GB, 128GB St...</td>\n",
       "      <td>electronics</td>\n",
       "      <td>Samsung</td>\n",
       "      <td>18999.0</td>\n",
       "      <td>3.8</td>\n",
       "      <td>In stock</td>\n",
       "    </tr>\n",
       "    <tr>\n",
       "      <th>1</th>\n",
       "      <td>Oppo A78 5G (Glowing Blue, 8GB RAM, 128 Storag...</td>\n",
       "      <td>electronics</td>\n",
       "      <td>Oppo</td>\n",
       "      <td>18999.0</td>\n",
       "      <td>4.1</td>\n",
       "      <td>In stock</td>\n",
       "    </tr>\n",
       "    <tr>\n",
       "      <th>2</th>\n",
       "      <td>(Renewed) Realme 9 Pro+ 5G (Aurora Green, 6GB ...</td>\n",
       "      <td>electronics</td>\n",
       "      <td>Oppo</td>\n",
       "      <td>NaN</td>\n",
       "      <td>4.0</td>\n",
       "      <td>Only 1 left in stock.</td>\n",
       "    </tr>\n",
       "  </tbody>\n",
       "</table>\n",
       "</div>"
      ],
      "text/plain": [
       "                                               Title     Category    brand  \\\n",
       "0  Samsung Galaxy A14 5G (Dark Red, 6GB, 128GB St...  electronics  Samsung   \n",
       "1  Oppo A78 5G (Glowing Blue, 8GB RAM, 128 Storag...  electronics     Oppo   \n",
       "2  (Renewed) Realme 9 Pro+ 5G (Aurora Green, 6GB ...  electronics     Oppo   \n",
       "\n",
       "     Price  Ratings           Availability  \n",
       "0  18999.0      3.8               In stock  \n",
       "1  18999.0      4.1               In stock  \n",
       "2      NaN      4.0  Only 1 left in stock.  "
      ]
     },
     "execution_count": 101,
     "metadata": {},
     "output_type": "execute_result"
    }
   ],
   "source": [
    "productsDF[productsDF[\"Category\"].str.upper()==\"ELECTRONICS\"].head(3)"
   ]
  },
  {
   "cell_type": "code",
   "execution_count": 102,
   "metadata": {},
   "outputs": [
    {
     "data": {
      "text/html": [
       "<div>\n",
       "<style scoped>\n",
       "    .dataframe tbody tr th:only-of-type {\n",
       "        vertical-align: middle;\n",
       "    }\n",
       "\n",
       "    .dataframe tbody tr th {\n",
       "        vertical-align: top;\n",
       "    }\n",
       "\n",
       "    .dataframe thead th {\n",
       "        text-align: right;\n",
       "    }\n",
       "</style>\n",
       "<table border=\"1\" class=\"dataframe\">\n",
       "  <thead>\n",
       "    <tr style=\"text-align: right;\">\n",
       "      <th></th>\n",
       "      <th>Title</th>\n",
       "      <th>Category</th>\n",
       "      <th>brand</th>\n",
       "      <th>Price</th>\n",
       "      <th>Ratings</th>\n",
       "      <th>Availability</th>\n",
       "    </tr>\n",
       "  </thead>\n",
       "  <tbody>\n",
       "    <tr>\n",
       "      <th>266</th>\n",
       "      <td>LYF C 459 Blue Mobile Phone</td>\n",
       "      <td>electronics</td>\n",
       "      <td>LYF</td>\n",
       "      <td>3149.0</td>\n",
       "      <td>1.7</td>\n",
       "      <td>In stock</td>\n",
       "    </tr>\n",
       "    <tr>\n",
       "      <th>206</th>\n",
       "      <td>Jmax A8 Ultra Purple, 1GB RAM, 16GB ROM, Andro...</td>\n",
       "      <td>electronics</td>\n",
       "      <td>Jmax</td>\n",
       "      <td>3390.0</td>\n",
       "      <td>1.0</td>\n",
       "      <td>In stock</td>\n",
       "    </tr>\n",
       "    <tr>\n",
       "      <th>146</th>\n",
       "      <td>Jmax A8 Ultra Green, 1GB RAM, 16GB ROM, Androi...</td>\n",
       "      <td>electronics</td>\n",
       "      <td>Jmax</td>\n",
       "      <td>3390.0</td>\n",
       "      <td>NaN</td>\n",
       "      <td>In stock</td>\n",
       "    </tr>\n",
       "  </tbody>\n",
       "</table>\n",
       "</div>"
      ],
      "text/plain": [
       "                                                 Title     Category brand  \\\n",
       "266                        LYF C 459 Blue Mobile Phone  electronics   LYF   \n",
       "206  Jmax A8 Ultra Purple, 1GB RAM, 16GB ROM, Andro...  electronics  Jmax   \n",
       "146  Jmax A8 Ultra Green, 1GB RAM, 16GB ROM, Androi...  electronics  Jmax   \n",
       "\n",
       "      Price  Ratings Availability  \n",
       "266  3149.0      1.7     In stock  \n",
       "206  3390.0      1.0     In stock  \n",
       "146  3390.0      NaN     In stock  "
      ]
     },
     "execution_count": 102,
     "metadata": {},
     "output_type": "execute_result"
    }
   ],
   "source": [
    "productsDF.sort_values(by=[\"Price\"]).head(3)"
   ]
  },
  {
   "cell_type": "code",
   "execution_count": 103,
   "metadata": {},
   "outputs": [
    {
     "data": {
      "text/plain": [
       "'Jmax A8 Ultra Purple, 1GB RAM, 16GB ROM, Android 8.1, 2MP+MP Camera, 4G Volte, 2500 mAh Battery'"
      ]
     },
     "execution_count": 103,
     "metadata": {},
     "output_type": "execute_result"
    }
   ],
   "source": [
    "productsDF.loc[206,:][\"Title\"]"
   ]
  },
  {
   "cell_type": "code",
   "execution_count": 104,
   "metadata": {},
   "outputs": [
    {
     "data": {
      "text/plain": [
       "'Jmax A8 Ultra Green, 1GB RAM, 16GB ROM, Android 8.1, 2MP+MP Camera, 4G Volte, 2500 mAh Battery'"
      ]
     },
     "execution_count": 104,
     "metadata": {},
     "output_type": "execute_result"
    }
   ],
   "source": [
    "productsDF.loc[146,:][\"Title\"]"
   ]
  }
 ],
 "metadata": {
  "kernelspec": {
   "display_name": "Python 3",
   "language": "python",
   "name": "python3"
  },
  "language_info": {
   "codemirror_mode": {
    "name": "ipython",
    "version": 3
   },
   "file_extension": ".py",
   "mimetype": "text/x-python",
   "name": "python",
   "nbconvert_exporter": "python",
   "pygments_lexer": "ipython3",
   "version": "3.9.0"
  },
  "orig_nbformat": 4
 },
 "nbformat": 4,
 "nbformat_minor": 2
}
