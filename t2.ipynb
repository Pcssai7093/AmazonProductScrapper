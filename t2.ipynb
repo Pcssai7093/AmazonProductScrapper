{
 "cells": [
  {
   "cell_type": "code",
   "execution_count": 1,
   "metadata": {},
   "outputs": [],
   "source": [
    "import requests as r\n",
    "import pandas as pd\n",
    "import numpy as np\n",
    "import bs4\n",
    "from fake_useragent import UserAgent\n",
    "\n",
    "ua=UserAgent()"
   ]
  },
  {
   "cell_type": "code",
   "execution_count": 83,
   "metadata": {},
   "outputs": [],
   "source": [
    "HEADERS = (({'User-Agent':ua.chrome,\n",
    "        \"Accept\": \"text/html,application/xhtml+xml,application/xml;q=0.9,image/avif,image/webp,*/*;q=0.8\",\n",
    "        \"Accept-Language\": \"en-US,en;q=0.5\",\n",
    "        \"Accept-Encoding\": \"gzip, deflate\",\n",
    "        \"Connection\": \"keep-alive\",\n",
    "        \"Upgrade-Insecure-Requests\": \"1\",\n",
    "        \"Sec-Fetch-Dest\": \"document\",\n",
    "        \"Sec-Fetch-Mode\": \"navigate\",\n",
    "        \"Sec-Fetch-Site\": \"none\",\n",
    "        \"Sec-Fetch-User\": \"?1\",\n",
    "        \"Cache-Control\": \"max-age=0\",\n",
    "        \"Referer\":\"www.google.com\"}))"
   ]
  },
  {
   "cell_type": "code",
   "execution_count": 88,
   "metadata": {},
   "outputs": [],
   "source": [
    "url=\"https://www.amazon.in/realme-Storage-Octa-core-Processor-Battery/dp/B0BBM7L888/ref=d_pd_di_sccai_cn_sccl_2_2/260-1924178-7884517?pd_rd_w=niY17&content-id=amzn1.sym.6bd42bf1-643f-4f79-8789-0605d591fad0&pf_rd_p=6bd42bf1-643f-4f79-8789-0605d591fad0&pf_rd_r=MVSBKMQ9MG1GXJFCG99P&pd_rd_wg=gb7q9&pd_rd_r=80b24dcb-e6c2-4c67-9627-d88f7e8691b2&pd_rd_i=B0BBM7L888&psc=1\""
   ]
  },
  {
   "cell_type": "code",
   "execution_count": 90,
   "metadata": {},
   "outputs": [
    {
     "name": "stdout",
     "output_type": "stream",
     "text": [
      "realme narzo 50i Prime (Dark Blue 4GB RAM+64GB Storage) Octa-core Processor | 5000 mAh Battery\n",
      "electronics\n",
      "7,799\n",
      "4.0\n",
      "In stock\n"
     ]
    }
   ],
   "source": [
    "response=r.get(url,headers=HEADERS)\n",
    "resHtml=response.content\n",
    "soup=bs4.BeautifulSoup(resHtml,'html.parser')\n",
    "print(soup.find('span',attrs={\"id\":\"productTitle\"}).text.strip())\n",
    "print(soup.find('div',attrs={\"id\":\"nav-subnav\"}).attrs['data-category'])\n",
    "print(soup.find('div',attrs={\"id\":\"corePriceDisplay_desktop_feature_div\"}).find('span',attrs={\"class\":\"a-price-whole\"}).text)\n",
    "print(soup.find('span',attrs={\"id\":\"acrPopover\"}).find('span',attrs={\"class\":\"a-size-base a-color-base\"}).text.strip())\n",
    "print(soup.find(\"div\",attrs={\"id\":\"availability\"}).find(\"span\").text.strip())"
   ]
  },
  {
   "cell_type": "code",
   "execution_count": 28,
   "metadata": {},
   "outputs": [],
   "source": []
  },
  {
   "cell_type": "code",
   "execution_count": 29,
   "metadata": {},
   "outputs": [],
   "source": []
  },
  {
   "cell_type": "code",
   "execution_count": 31,
   "metadata": {},
   "outputs": [
    {
     "data": {
      "text/plain": [
       "<title>Redmi 12C (Mint Green, 4GB RAM, 64GB Storage) | High Performance Mediatek Helio G85 | Big 17cm(6.71) HD+ Display with 5000mAh(typ) Battery : Amazon.in: Health &amp; Personal Care</title>"
      ]
     },
     "execution_count": 31,
     "metadata": {},
     "output_type": "execute_result"
    }
   ],
   "source": [
    "soup.title"
   ]
  },
  {
   "cell_type": "code",
   "execution_count": null,
   "metadata": {},
   "outputs": [],
   "source": [
    "soup"
   ]
  },
  {
   "cell_type": "code",
   "execution_count": 32,
   "metadata": {},
   "outputs": [
    {
     "data": {
      "text/plain": [
       "<span class=\"a-size-large product-title-word-break\" id=\"productTitle\">        Redmi 12C (Mint Green, 4GB RAM, 64GB Storage) | High Performance Mediatek Helio G85 | Big 17cm(6.71) HD+ Display with 5000mAh(typ) Battery       </span>"
      ]
     },
     "execution_count": 32,
     "metadata": {},
     "output_type": "execute_result"
    }
   ],
   "source": [
    "soup.find(\"span\",attrs={\"id\": 'productTitle'})"
   ]
  },
  {
   "cell_type": "code",
   "execution_count": 34,
   "metadata": {},
   "outputs": [],
   "source": [
    "navbar=soup.find_all('div',attrs={\"id\":\"nav-progressive-subnav\"})"
   ]
  },
  {
   "cell_type": "code",
   "execution_count": 38,
   "metadata": {},
   "outputs": [
    {
     "data": {
      "text/plain": [
       "[<div id=\"nav-progressive-subnav\">\n",
       " <script type=\"text/javascript\">window.navmet.tmp=+new Date();</script>\n",
       " <div class=\"spacious\" data-category=\"electronics\" id=\"nav-subnav\">\n",
       " <a class=\"nav-a nav-hasImage\" href=\"/electronics/b/?ie=UTF8&amp;node=976419031&amp;ref_=topnav_storetab_top_elec_mega\">\n",
       " <span class=\"nav-a-content\">\n",
       " <img alt=\"Electronics\" class=\"nav-categ-image\" src=\"https://m.media-amazon.com/images/G/31/img18/Electronics/Megamenu/Megamenu_Electronics_top._CB485947327_.png\">\n",
       " </img></span>\n",
       " </a>\n",
       " <a aria-expanded=\"false\" aria-haspopup=\"true\" aria-label=\"Mobiles &amp; Accessories\" class=\"nav-a nav-hasArrow\" data-nav-flyout-full-width=\"1\" data-nav-key=\"aj:https://images-eu.ssl-images-amazon.com/images/G/31/img18/Electronics/Megamenu/megamenumar18f.json:subnav-sl-megamenu-1:0\" href=\"/b/?_encoding=UTF8&amp;node=1389401031&amp;ref_=sv_top_elec_mega_1\">\n",
       " <span class=\"nav-a-content\">\n",
       "       Mobiles &amp; Accessories\n",
       "       \n",
       "     </span>\n",
       " <span class=\"nav-arrow\"></span>\n",
       " </a>\n",
       " <a aria-expanded=\"false\" aria-haspopup=\"true\" aria-label=\"Laptops &amp; Accessories\" class=\"nav-a nav-hasArrow\" data-nav-flyout-full-width=\"1\" data-nav-key=\"aj:https://images-eu.ssl-images-amazon.com/images/G/31/img18/Electronics/Megamenu/megamenumar18f.json:subnav-sl-megamenu-2:0\" href=\"/b/?_encoding=UTF8&amp;node=976392031&amp;ref_=sv_top_elec_mega_2\">\n",
       " <span class=\"nav-a-content\">\n",
       "       Laptops &amp; Accessories\n",
       "       \n",
       "     </span>\n",
       " <span class=\"nav-arrow\"></span>\n",
       " </a>\n",
       " <a aria-expanded=\"false\" aria-haspopup=\"true\" aria-label=\"TV &amp; Home Entertainment\" class=\"nav-a nav-hasArrow\" data-nav-flyout-full-width=\"1\" data-nav-key=\"aj:https://images-eu.ssl-images-amazon.com/images/G/31/img18/Electronics/Megamenu/megamenumar18f.json:subnav-sl-megamenu-3:0\" href=\"/b/?_encoding=UTF8&amp;node=1389375031&amp;ref_=sv_top_elec_mega_3\">\n",
       " <span class=\"nav-a-content\">\n",
       "       TV &amp; Home Entertainment\n",
       "       \n",
       "     </span>\n",
       " <span class=\"nav-arrow\"></span>\n",
       " </a>\n",
       " <a aria-expanded=\"false\" aria-haspopup=\"true\" aria-label=\"Audio\" class=\"nav-a nav-hasArrow\" data-nav-flyout-full-width=\"1\" data-nav-key=\"aj:https://images-eu.ssl-images-amazon.com/images/G/31/img18/Electronics/Megamenu/megamenumar18f.json:subnav-sl-megamenu-4:0\" href=\"/b/?_encoding=UTF8&amp;node=1389335031&amp;ref_=sv_top_elec_mega_4\">\n",
       " <span class=\"nav-a-content\">\n",
       "       Audio\n",
       "       \n",
       "     </span>\n",
       " <span class=\"nav-arrow\"></span>\n",
       " </a>\n",
       " <a aria-expanded=\"false\" aria-haspopup=\"true\" aria-label=\"Cameras\" class=\"nav-a nav-hasArrow\" data-nav-flyout-full-width=\"1\" data-nav-key=\"aj:https://images-eu.ssl-images-amazon.com/images/G/31/img18/Electronics/Megamenu/megamenumar18f.json:subnav-sl-megamenu-5:0\" href=\"/b/?_encoding=UTF8&amp;node=1388977031&amp;ref_=sv_top_elec_mega_5\">\n",
       " <span class=\"nav-a-content\">\n",
       "       Cameras\n",
       "       \n",
       "     </span>\n",
       " <span class=\"nav-arrow\"></span>\n",
       " </a>\n",
       " <a aria-expanded=\"false\" aria-haspopup=\"true\" aria-label=\"Computer Peripherals\" class=\"nav-a nav-hasArrow\" data-nav-flyout-full-width=\"1\" data-nav-key=\"aj:https://images-eu.ssl-images-amazon.com/images/G/31/img18/Electronics/Megamenu/megamenumar18f.json:subnav-sl-megamenu-6:0\" href=\"/b/?_encoding=UTF8&amp;node=1375248031&amp;ref_=sv_top_elec_mega_6\">\n",
       " <span class=\"nav-a-content\">\n",
       "       Computer Peripherals\n",
       "       \n",
       "     </span>\n",
       " <span class=\"nav-arrow\"></span>\n",
       " </a>\n",
       " <a aria-expanded=\"false\" aria-haspopup=\"true\" aria-label=\"Smart Technology\" class=\"nav-a nav-hasArrow\" data-nav-flyout-full-width=\"1\" data-nav-key=\"aj:https://images-eu.ssl-images-amazon.com/images/G/31/img18/Electronics/Megamenu/megamenumar18f.json:subnav-sl-megamenu-7:0\" href=\"/b/?_encoding=UTF8&amp;node=13773797031&amp;ref_=sv_top_elec_mega_7\">\n",
       " <span class=\"nav-a-content\">\n",
       "       Smart Technology\n",
       "       \n",
       "     </span>\n",
       " <span class=\"nav-arrow\"></span>\n",
       " </a>\n",
       " <a aria-expanded=\"false\" aria-haspopup=\"true\" aria-label=\"Musical Instruments\" class=\"nav-a nav-hasArrow\" data-nav-flyout-full-width=\"1\" data-nav-key=\"aj:https://images-eu.ssl-images-amazon.com/images/G/31/img18/Electronics/Megamenu/megamenumar18f.json:subnav-sl-megamenu-8:0\" href=\"/b/?_encoding=UTF8&amp;node=3677697031&amp;ref_=sv_top_elec_mega_8\">\n",
       " <span class=\"nav-a-content\">\n",
       "       Musical Instruments\n",
       "       \n",
       "     </span>\n",
       " <span class=\"nav-arrow\"></span>\n",
       " </a>\n",
       " <a aria-expanded=\"false\" aria-haspopup=\"true\" aria-label=\"Office &amp; Stationery\" class=\"nav-a nav-hasArrow\" data-nav-flyout-full-width=\"1\" data-nav-key=\"aj:https://images-eu.ssl-images-amazon.com/images/G/31/img18/Electronics/Megamenu/megamenumar18f.json:subnav-sl-megamenu-9:0\" href=\"/b/?_encoding=UTF8&amp;node=2454172031&amp;ref_=sv_top_elec_mega_9\">\n",
       " <span class=\"nav-a-content\">\n",
       "       Office &amp; Stationery\n",
       "       \n",
       "     </span>\n",
       " <span class=\"nav-arrow\"></span>\n",
       " </a>\n",
       " <!-- nav-linktree-subnav - 'electronics' -->\n",
       " </div>\n",
       " <script type=\"text/javascript\">window.navmet.push({key:'Subnav',end:+new Date(),begin:window.navmet.tmp});</script>\n",
       " </div>]"
      ]
     },
     "execution_count": 38,
     "metadata": {},
     "output_type": "execute_result"
    }
   ],
   "source": [
    "navbar"
   ]
  },
  {
   "cell_type": "code",
   "execution_count": 35,
   "metadata": {},
   "outputs": [
    {
     "data": {
      "text/plain": [
       "bs4.element.ResultSet"
      ]
     },
     "execution_count": 35,
     "metadata": {},
     "output_type": "execute_result"
    }
   ],
   "source": [
    "type(navbar)"
   ]
  },
  {
   "cell_type": "code",
   "execution_count": 44,
   "metadata": {},
   "outputs": [],
   "source": [
    "dataCatDiv=soup.find_all('div',attrs={\"id\":\"nav-subnav\"})[0]"
   ]
  },
  {
   "cell_type": "code",
   "execution_count": 51,
   "metadata": {},
   "outputs": [
    {
     "data": {
      "text/plain": [
       "{'id': 'nav-subnav', 'class': ['spacious'], 'data-category': 'electronics'}"
      ]
     },
     "execution_count": 51,
     "metadata": {},
     "output_type": "execute_result"
    }
   ],
   "source": [
    "dataCatDiv.attrs"
   ]
  },
  {
   "cell_type": "code",
   "execution_count": 54,
   "metadata": {},
   "outputs": [
    {
     "data": {
      "text/plain": [
       "30"
      ]
     },
     "execution_count": 54,
     "metadata": {},
     "output_type": "execute_result"
    }
   ],
   "source": [
    "len(dataCatDiv.find_all(True))"
   ]
  },
  {
   "cell_type": "code",
   "execution_count": 57,
   "metadata": {},
   "outputs": [
    {
     "data": {
      "text/plain": [
       "True"
      ]
     },
     "execution_count": 57,
     "metadata": {},
     "output_type": "execute_result"
    }
   ],
   "source": [
    "dataCatDiv.has_attr(\"id\")"
   ]
  },
  {
   "attachments": {},
   "cell_type": "markdown",
   "metadata": {},
   "source": [
    "Product_title"
   ]
  },
  {
   "cell_type": "code",
   "execution_count": 60,
   "metadata": {},
   "outputs": [
    {
     "data": {
      "text/plain": [
       "'Redmi 12C (Mint Green, 4GB RAM, 64GB Storage) | High Performance Mediatek Helio G85 | Big 17cm(6.71) HD+ Display with 5000mAh(typ) Battery'"
      ]
     },
     "execution_count": 60,
     "metadata": {},
     "output_type": "execute_result"
    }
   ],
   "source": [
    "soup.find('span',attrs={\"id\":\"productTitle\"}).text.strip()"
   ]
  },
  {
   "attachments": {},
   "cell_type": "markdown",
   "metadata": {},
   "source": [
    "Product Category"
   ]
  },
  {
   "cell_type": "code",
   "execution_count": 61,
   "metadata": {},
   "outputs": [
    {
     "data": {
      "text/plain": [
       "'electronics'"
      ]
     },
     "execution_count": 61,
     "metadata": {},
     "output_type": "execute_result"
    }
   ],
   "source": [
    "soup.find('div',attrs={\"id\":\"nav-subnav\"}).attrs['data-category']"
   ]
  },
  {
   "attachments": {},
   "cell_type": "markdown",
   "metadata": {},
   "source": [
    "Product Price"
   ]
  },
  {
   "cell_type": "code",
   "execution_count": 64,
   "metadata": {},
   "outputs": [
    {
     "data": {
      "text/plain": [
       "'8,799'"
      ]
     },
     "execution_count": 64,
     "metadata": {},
     "output_type": "execute_result"
    }
   ],
   "source": [
    "soup.find('div',attrs={\"id\":\"corePriceDisplay_desktop_feature_div\"}).find('span',attrs={\"class\":\"a-price-whole\"}).text"
   ]
  },
  {
   "attachments": {},
   "cell_type": "markdown",
   "metadata": {},
   "source": [
    "Product Rating"
   ]
  },
  {
   "cell_type": "code",
   "execution_count": 74,
   "metadata": {},
   "outputs": [
    {
     "data": {
      "text/plain": [
       "'3.9'"
      ]
     },
     "execution_count": 74,
     "metadata": {},
     "output_type": "execute_result"
    }
   ],
   "source": [
    "soup.find('span',attrs={\"id\":\"acrPopover\"}).find('span',attrs={\"class\":\"a-size-base a-color-base\"}).text.strip()"
   ]
  },
  {
   "attachments": {},
   "cell_type": "markdown",
   "metadata": {},
   "source": [
    "Product Availability"
   ]
  },
  {
   "cell_type": "code",
   "execution_count": 76,
   "metadata": {},
   "outputs": [
    {
     "data": {
      "text/plain": [
       "'In stock'"
      ]
     },
     "execution_count": 76,
     "metadata": {},
     "output_type": "execute_result"
    }
   ],
   "source": [
    "soup.find(\"div\",attrs={\"id\":\"availability\"}).find(\"span\").text.strip()"
   ]
  },
  {
   "cell_type": "code",
   "execution_count": 2,
   "metadata": {},
   "outputs": [
    {
     "data": {
      "text/html": [
       "<div>\n",
       "<style scoped>\n",
       "    .dataframe tbody tr th:only-of-type {\n",
       "        vertical-align: middle;\n",
       "    }\n",
       "\n",
       "    .dataframe tbody tr th {\n",
       "        vertical-align: top;\n",
       "    }\n",
       "\n",
       "    .dataframe thead th {\n",
       "        text-align: right;\n",
       "    }\n",
       "</style>\n",
       "<table border=\"1\" class=\"dataframe\">\n",
       "  <thead>\n",
       "    <tr style=\"text-align: right;\">\n",
       "      <th></th>\n",
       "      <th>1</th>\n",
       "      <th>2</th>\n",
       "      <th>3</th>\n",
       "    </tr>\n",
       "  </thead>\n",
       "  <tbody>\n",
       "    <tr>\n",
       "      <th>0</th>\n",
       "      <td>1.0</td>\n",
       "      <td>3</td>\n",
       "      <td>3</td>\n",
       "    </tr>\n",
       "    <tr>\n",
       "      <th>1</th>\n",
       "      <td>NaN</td>\n",
       "      <td>2</td>\n",
       "      <td>3</td>\n",
       "    </tr>\n",
       "  </tbody>\n",
       "</table>\n",
       "</div>"
      ],
      "text/plain": [
       "     1  2  3\n",
       "0  1.0  3  3\n",
       "1  NaN  2  3"
      ]
     },
     "execution_count": 2,
     "metadata": {},
     "output_type": "execute_result"
    }
   ],
   "source": [
    "t1=[[1,3,3],[None,2,3]]\n",
    "pd.DataFrame(t1,columns=[\"1\",\"2\",\"3\"])"
   ]
  },
  {
   "cell_type": "code",
   "execution_count": 6,
   "metadata": {},
   "outputs": [],
   "source": [
    "from pymaybe import maybe"
   ]
  },
  {
   "cell_type": "code",
   "execution_count": 9,
   "metadata": {},
   "outputs": [
    {
     "data": {
      "text/plain": [
       "None"
      ]
     },
     "execution_count": 9,
     "metadata": {},
     "output_type": "execute_result"
    }
   ],
   "source": [
    "maybe(None).text.strip()"
   ]
  },
  {
   "cell_type": "code",
   "execution_count": 13,
   "metadata": {},
   "outputs": [
    {
     "data": {
      "text/plain": [
       "pymaybe.Nothing"
      ]
     },
     "execution_count": 13,
     "metadata": {},
     "output_type": "execute_result"
    }
   ],
   "source": [
    "type(maybe(None).text.strip())"
   ]
  },
  {
   "cell_type": "code",
   "execution_count": 14,
   "metadata": {},
   "outputs": [
    {
     "data": {
      "text/html": [
       "<div>\n",
       "<style scoped>\n",
       "    .dataframe tbody tr th:only-of-type {\n",
       "        vertical-align: middle;\n",
       "    }\n",
       "\n",
       "    .dataframe tbody tr th {\n",
       "        vertical-align: top;\n",
       "    }\n",
       "\n",
       "    .dataframe thead th {\n",
       "        text-align: right;\n",
       "    }\n",
       "</style>\n",
       "<table border=\"1\" class=\"dataframe\">\n",
       "  <thead>\n",
       "    <tr style=\"text-align: right;\">\n",
       "      <th></th>\n",
       "      <th>1</th>\n",
       "      <th>2</th>\n",
       "      <th>3</th>\n",
       "    </tr>\n",
       "  </thead>\n",
       "  <tbody>\n",
       "    <tr>\n",
       "      <th>0</th>\n",
       "      <td>1.0</td>\n",
       "      <td>3</td>\n",
       "      <td>3</td>\n",
       "    </tr>\n",
       "    <tr>\n",
       "      <th>1</th>\n",
       "      <td>NaN</td>\n",
       "      <td>2</td>\n",
       "      <td>3</td>\n",
       "    </tr>\n",
       "  </tbody>\n",
       "</table>\n",
       "</div>"
      ],
      "text/plain": [
       "     1  2  3\n",
       "0  1.0  3  3\n",
       "1  NaN  2  3"
      ]
     },
     "execution_count": 14,
     "metadata": {},
     "output_type": "execute_result"
    }
   ],
   "source": [
    "t2=[[1,3,3],[maybe(None),2,3]]\n",
    "pd.DataFrame(t1,columns=[\"1\",\"2\",\"3\"])"
   ]
  },
  {
   "cell_type": "code",
   "execution_count": 19,
   "metadata": {},
   "outputs": [
    {
     "data": {
      "text/plain": [
       "<bound method Nothing.get of None>"
      ]
     },
     "execution_count": 19,
     "metadata": {},
     "output_type": "execute_result"
    }
   ],
   "source": [
    "maybe(None).get"
   ]
  },
  {
   "cell_type": "code",
   "execution_count": 26,
   "metadata": {},
   "outputs": [
    {
     "data": {
      "text/plain": [
       "pymaybe.Something"
      ]
     },
     "execution_count": 26,
     "metadata": {},
     "output_type": "execute_result"
    }
   ],
   "source": [
    "type(maybe(\"HigHer\").lower())"
   ]
  },
  {
   "cell_type": "code",
   "execution_count": 23,
   "metadata": {},
   "outputs": [
    {
     "data": {
      "text/plain": [
       "False"
      ]
     },
     "execution_count": 23,
     "metadata": {},
     "output_type": "execute_result"
    }
   ],
   "source": [
    "(maybe(None))==False"
   ]
  },
  {
   "cell_type": "code",
   "execution_count": 27,
   "metadata": {},
   "outputs": [],
   "source": [
    "result=maybe(\" hello \").upper().strip().or_else(\"kiill\")"
   ]
  },
  {
   "cell_type": "code",
   "execution_count": 31,
   "metadata": {},
   "outputs": [
    {
     "data": {
      "text/plain": [
       "'kiill'"
      ]
     },
     "execution_count": 31,
     "metadata": {},
     "output_type": "execute_result"
    }
   ],
   "source": [
    "maybe(None).upper().strip().attrs[\"data-cat\"].or_else(\"kiill\")"
   ]
  },
  {
   "cell_type": "code",
   "execution_count": 29,
   "metadata": {},
   "outputs": [
    {
     "data": {
      "text/plain": [
       "str"
      ]
     },
     "execution_count": 29,
     "metadata": {},
     "output_type": "execute_result"
    }
   ],
   "source": [
    "type(result)"
   ]
  },
  {
   "cell_type": "code",
   "execution_count": 28,
   "metadata": {},
   "outputs": [
    {
     "data": {
      "text/plain": [
       "'HELLO'"
      ]
     },
     "execution_count": 28,
     "metadata": {},
     "output_type": "execute_result"
    }
   ],
   "source": [
    "result"
   ]
  },
  {
   "cell_type": "code",
   "execution_count": 32,
   "metadata": {},
   "outputs": [
    {
     "ename": "ValueError",
     "evalue": "invalid literal for int() with base 10: ''",
     "output_type": "error",
     "traceback": [
      "\u001b[1;31m---------------------------------------------------------------------------\u001b[0m",
      "\u001b[1;31mValueError\u001b[0m                                Traceback (most recent call last)",
      "\u001b[1;32mc:\\Users\\chandra sekhar\\Desktop\\resume projects\\amazon data scrapping\\t2.ipynb Cell 39\u001b[0m in \u001b[0;36m<cell line: 2>\u001b[1;34m()\u001b[0m\n\u001b[0;32m      <a href='vscode-notebook-cell:/c%3A/Users/chandra%20sekhar/Desktop/resume%20projects/amazon%20data%20scrapping/t2.ipynb#X54sZmlsZQ%3D%3D?line=0'>1</a>\u001b[0m temp\u001b[39m=\u001b[39m\u001b[39m\"\u001b[39m\u001b[39m\"\u001b[39m\n\u001b[1;32m----> <a href='vscode-notebook-cell:/c%3A/Users/chandra%20sekhar/Desktop/resume%20projects/amazon%20data%20scrapping/t2.ipynb#X54sZmlsZQ%3D%3D?line=1'>2</a>\u001b[0m \u001b[39mint\u001b[39;49m(temp)\n",
      "\u001b[1;31mValueError\u001b[0m: invalid literal for int() with base 10: ''"
     ]
    }
   ],
   "source": [
    "temp=\"\"\n",
    "int(temp)"
   ]
  }
 ],
 "metadata": {
  "kernelspec": {
   "display_name": "Python 3",
   "language": "python",
   "name": "python3"
  },
  "language_info": {
   "codemirror_mode": {
    "name": "ipython",
    "version": 3
   },
   "file_extension": ".py",
   "mimetype": "text/x-python",
   "name": "python",
   "nbconvert_exporter": "python",
   "pygments_lexer": "ipython3",
   "version": "3.9.0"
  },
  "orig_nbformat": 4
 },
 "nbformat": 4,
 "nbformat_minor": 2
}
